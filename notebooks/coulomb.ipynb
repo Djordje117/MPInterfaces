{
 "metadata": {
  "name": "",
  "signature": "sha256:d1686a72f1f202938b2383211cb8bec6c398a733f120b9beb3cc2d360da2f7cc"
 },
 "nbformat": 3,
 "nbformat_minor": 0,
 "worksheets": [
  {
   "cells": [
    {
     "cell_type": "code",
     "collapsed": false,
     "input": [
      "from pymatgen import Structure, Molecule\n",
      "from monty.json import MontyDecoder\n",
      "from monty.serialization import loadfn"
     ],
     "language": "python",
     "metadata": {},
     "outputs": [],
     "prompt_number": 1
    },
    {
     "cell_type": "code",
     "collapsed": false,
     "input": [
      "#for site in mol:\n",
      "#    for sp, amt in site.species_and_occu.items():\n",
      "#        print sp.Z, sp.X, sp.oxidation_states, sp.ionic_radii, sp.common_oxidation_states, sp.full_electronic_structure\n",
      "\n",
      "from pymatgen.analysis.energy_models import EnergyModel\n",
      "\n",
      "class ColoumbEnergy(EnergyModel):\n",
      "    def get_energy(self, structure):\n",
      "        \"\"\"\n",
      "        use the atomic numbers of the structures's elements to compute \n",
      "        the coloumbic energy of the structure\n",
      "        \"\"\"\n",
      "        energy = 0\n",
      "        for i, sitei in enumerate(structure):\n",
      "            for j, sitej in enumerate(structure):\n",
      "                if i != j:\n",
      "                    dij = structure.get_distance(i,j)\n",
      "                    Zi = sitei.species_and_occu.items()[0][0].Z\n",
      "                    Zj = sitej.species_and_occu.items()[0][0].Z\n",
      "                    energy += 0.5 * Zi*Zj/dij\n",
      "        return energy\n",
      "    \n",
      "    def as_dict(self):\n",
      "        return {\"version\": __version__,\n",
      "                \"@module\": self.__class__.__module__,\n",
      "                \"@class\": self.__class__.__name__,\n",
      "                \"init_args\": {\"name\":\"coloumb\"} }\n",
      "        "
     ],
     "language": "python",
     "metadata": {},
     "outputs": [],
     "prompt_number": 2
    },
    {
     "cell_type": "code",
     "collapsed": false,
     "input": [
      "#examples:\n",
      "acetic_acid = Molecule.from_file('acetic_acid.xyz')\n",
      "cscl = loadfn('/home/matk/Software/pymatgen/pymatgen/util/structures/CsCl.json', cls=MontyDecoder)\n",
      "ce = ColoumbEnergy()\n",
      "print ce.get_energy(acetic_acid)\n",
      "print ce.get_energy(cscl)"
     ],
     "language": "python",
     "metadata": {},
     "outputs": [
      {
       "output_type": "stream",
       "stream": "stdout",
       "text": [
        "227.515696545\n",
        "256.508672698\n"
       ]
      }
     ],
     "prompt_number": 3
    },
    {
     "cell_type": "code",
     "collapsed": false,
     "input": [
      "#sort structures based on their coloumbic energies\n",
      "all_structures = dict([(acetic_acid.composition.formula, ce.get_energy(acetic_acid)),\n",
      "                       (cscl.composition.formula, ce.get_energy(cscl))\n",
      "                       ])\n",
      "sorted(all_structures.items(), key=lambda d: d[1])"
     ],
     "language": "python",
     "metadata": {},
     "outputs": [
      {
       "metadata": {},
       "output_type": "pyout",
       "prompt_number": 4,
       "text": [
        "[(u'H4 C2 O2', 227.51569654479172), (u'Cs1 Cl1', 256.5086726976955)]"
       ]
      }
     ],
     "prompt_number": 4
    },
    {
     "cell_type": "code",
     "collapsed": false,
     "input": [],
     "language": "python",
     "metadata": {},
     "outputs": [],
     "prompt_number": 4
    }
   ],
   "metadata": {}
  }
 ]
}